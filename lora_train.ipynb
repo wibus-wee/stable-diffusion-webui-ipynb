{
 "cells": [
  {
   "attachments": {},
   "cell_type": "markdown",
   "metadata": {},
   "source": [
    "# Kohya's Script + Lora Train `Developing`\n",
    "\n",
    "More info: https://github.com/wibus-wee/stable_diffusion_chilloutmix_ipynb\n",
    "\n",
    "> Created by [@wibus-wee](https://github.com/wibus-wee)\n",
    ">\n",
    "> Reference: [camenduru/stable-diffusion-webui-colab](https://github.com/camenduru/stable-diffusion-webui-colab)"
   ]
  },
  {
   "cell_type": "code",
   "execution_count": null,
   "metadata": {},
   "outputs": [],
   "source": [
    "#@title 选择模型 { display-mode: \"form\" }\n",
    "\n",
    "#@markdown 选择模型\n",
    "checkpoint = 'chilloutmix.safetensors' #@param [\"chilloutmix.safetensors\", \"sunshinemix.safetensors\", \"grapefruitHentaiModel.safetensors\"]\n",
    "\n",
    "downloadLink = {\n",
    "    'chilloutmix.safetensors': 'https://civitai.com/api/download/models/11745',\n",
    "    'sunshinemix.safetensors': 'https://civitai.com/api/download/models/11752',\n",
    "    'grapefruitHentaiModel.safetensors': 'https://civitai.com/api/download/models/9000'\n",
    "}[checkpoint]\n",
    "\n",
    "print(\"已选择模型: \" + checkpoint + \" <===> \" + downloadLink)\n",
    "\n",
    "%store checkpoint\n",
    "%store downloadLink"
   ]
  },
  {
   "cell_type": "code",
   "execution_count": null,
   "metadata": {},
   "outputs": [],
   "source": [
    "#@title 1. 检查 GPU & 检查环境\n",
    "\n",
    "#@markdown 此步骤将检查你的 GPU 是否支持 xformers，同时会检查是否为 Paperspace 平台（仅针对 M4000 GPU 做了判断，因此其他的 GPU 可能在此处将会出现逻辑判断错误的情况，你可能需要自行勾选）。\n",
    "\n",
    "import os, subprocess\n",
    "paperspace_m4000 = False\n",
    "#@markdown 是否为 Paperspace 平台\n",
    "isPaperspace = False #@param {type:\"boolean\"}\n",
    "try:\n",
    "    subprocess.run(['nvidia-smi', '--query-gpu=name', '--format=csv,noheader'], stdout=subprocess.PIPE)\n",
    "    if 'M4000' in subprocess.run(['nvidia-smi', '--query-gpu=name', '--format=csv,noheader'], stdout=subprocess.PIPE).stdout.decode('utf-8'):\n",
    "        print(\"WARNING: 你正在使用的是 Quadro M4000 GPU，它将无法使用 xformers。\")\n",
    "        paperspace_m4000 = True\n",
    "        isPaperspace = True\n",
    "    else:\n",
    "        print(\"你正在使用的是合适的 GPU - \" + subprocess.run(['nvidia-smi', '--query-gpu=name', '--format=csv,noheader'], stdout=subprocess.PIPE).stdout.decode('utf-8') + \"。\")\n",
    "        print(\"平台: Paperspace\" if isPaperspace else \"使用平台: Colab\")\n",
    "except:\n",
    "    print(\"似乎没有 GPU 可用。请检查你的运行时类型。\")\n",
    "    exit()\n",
    "\n",
    "rootDir = isPaperspace and '/tmp' or '/content'\n",
    "%store rootDir\n",
    "%store paperspace_m4000 \n",
    "%store isPaperspace"
   ]
  },
  {
   "cell_type": "code",
   "execution_count": null,
   "metadata": {},
   "outputs": [],
   "source": [
    "#@title 2. 安装训练依赖\n",
    "\n",
    "%store -r rootDir \n",
    "%store -r checkpoint \n",
    "%store -r downloadLink\n",
    "\n",
    "!apt-get -y install -qq aria2\n",
    "ariaInstalled = False\n",
    "\n",
    "try:\n",
    "    subprocess.run(['aria2c', '--version'], stdout=subprocess.PIPE)\n",
    "    ariaInstalled = True\n",
    "except:\n",
    "    pass\n",
    "\n",
    "!git clone --recurse-submodules https://github.com/Akegarasu/lora-scripts {rootDir}/lora-scripts\n",
    "%cd {rootDir}/lora-scripts\n",
    "if ariaInstalled:\n",
    "    !aria2c --console-log-level=error -c -x 16 -s 16 -k 1M {downloadLink} -d {rootDir}/lora-scripts/sd-models -o {checkpoint}\n",
    "else:\n",
    "    !wget -c {downloadLink} -P {rootDir}/stable-diffusion-webui/models/Stable-diffusion -O {rootDir}/lora-scripts/sd-models/{checkpoint}\n",
    "!chmod +x install.bash train.bash\n",
    "!bash install.bash\n",
    "\n",
    "if not paperspace_m4000:\n",
    "  !pip install -q https://github.com/camenduru/stable-diffusion-webui-colab/releases/download/0.0.16/xformers-0.0.16+814314d.d20230118-cp38-cp38-linux_x86_64.whl\n",
    "  !pip install -q --pre triton"
   ]
  },
  {
   "cell_type": "code",
   "execution_count": null,
   "metadata": {},
   "outputs": [],
   "source": [
    "#@title 3. 训练选项设置\n",
    "\n",
    "source venv/bin/activate"
   ]
  },
  {
   "cell_type": "code",
   "execution_count": null,
   "metadata": {},
   "outputs": [],
   "source": [
    "#@title 4. 启动 GUI"
   ]
  }
 ],
 "metadata": {
  "language_info": {
   "name": "python"
  },
  "orig_nbformat": 4
 },
 "nbformat": 4,
 "nbformat_minor": 2
}
