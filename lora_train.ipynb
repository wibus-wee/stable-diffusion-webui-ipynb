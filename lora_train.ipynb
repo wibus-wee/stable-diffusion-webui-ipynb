{
 "cells": [
  {
   "attachments": {},
   "cell_type": "markdown",
   "metadata": {},
   "source": [
    "# Kohya's Script + Lora Train `Developing`\n",
    "\n",
    "More info: https://github.com/wibus-wee/stable_diffusion_chilloutmix_ipynb\n",
    "\n",
    "> Created by [@wibus-wee](https://github.com/wibus-wee)\n",
    ">\n",
    "> Reference: [camenduru/stable-diffusion-webui-colab](https://github.com/camenduru/stable-diffusion-webui-colab)"
   ]
  },
  {
   "attachments": {},
   "cell_type": "markdown",
   "metadata": {},
   "source": [
    "## 1. 检查 GPU"
   ]
  },
  {
   "cell_type": "code",
   "execution_count": null,
   "metadata": {},
   "outputs": [],
   "source": [
    "import os, subprocess\n",
    "paperspace_m4000 = False\n",
    "try:\n",
    "    subprocess.run(['nvidia-smi', '--query-gpu=name', '--format=csv,noheader'], stdout=subprocess.PIPE)\n",
    "    if 'M4000' in subprocess.run(['nvidia-smi', '--query-gpu=name', '--format=csv,noheader'], stdout=subprocess.PIPE).stdout.decode('utf-8'):\n",
    "        print(\"WARNING: 你正在使用的是 Quadro M4000 GPU，它将无法使用 xformers。\")\n",
    "        paperspace_m4000 = True\n",
    "    else:\n",
    "        print(\"你正在使用的是合适的 GPU。\")\n",
    "except:\n",
    "    print(\"似乎没有 GPU 可用。请检查你的运行时类型。\")\n",
    "    exit()\n",
    "\n",
    "rootDir = paperspace_m4000 and '/tmp' or '/content'\n",
    "stableDiffusionWebUIInstalled = os.path.exists(rootDir + '/stable-diffusion-webui')\n",
    "%store rootDir\n",
    "%store paperspace_m4000 "
   ]
  },
  {
   "attachments": {},
   "cell_type": "markdown",
   "metadata": {},
   "source": [
    "## 2. 安装 Docker"
   ]
  },
  {
   "cell_type": "code",
   "execution_count": null,
   "metadata": {},
   "outputs": [],
   "source": [
    "!curl -fsSL https://get.docker.com | bash -"
   ]
  }
 ],
 "metadata": {
  "language_info": {
   "name": "python"
  },
  "orig_nbformat": 4
 },
 "nbformat": 4,
 "nbformat_minor": 2
}
