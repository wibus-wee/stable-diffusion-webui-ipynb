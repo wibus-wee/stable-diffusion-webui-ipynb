{
 "cells": [
  {
   "attachments": {},
   "cell_type": "markdown",
   "metadata": {},
   "source": [
    "# Kohya's Script + Lora Train `Developing`\n",
    "\n",
    "More info: https://github.com/wibus-wee/stable_diffusion_chilloutmix_ipynb\n",
    "\n",
    "> Created by [@wibus-wee](https://github.com/wibus-wee)\n",
    ">\n",
    "> Reference: [camenduru/stable-diffusion-webui-colab](https://github.com/camenduru/stable-diffusion-webui-colab)"
   ]
  },
  {
   "cell_type": "code",
   "execution_count": null,
   "metadata": {},
   "outputs": [],
   "source": [
    "#@title 1. 检查 GPU & 检查环境\n",
    "\n",
    "#@markdown 此步骤将检查你的 GPU 是否支持 xformers，同时会检查是否为 Paperspace 平台（仅针对 M4000 GPU 做了判断，因此其他的 GPU 可能在此处将会出现逻辑判断错误的情况，你可能需要自行勾选）。\n",
    "\n",
    "import os, subprocess\n",
    "paperspace_m4000 = False\n",
    "#@markdown 是否为 Paperspace 平台\n",
    "isPaperspace = False #@param {type:\"boolean\"}\n",
    "try:\n",
    "    subprocess.run(['nvidia-smi', '--query-gpu=name', '--format=csv,noheader'], stdout=subprocess.PIPE)\n",
    "    if 'M4000' in subprocess.run(['nvidia-smi', '--query-gpu=name', '--format=csv,noheader'], stdout=subprocess.PIPE).stdout.decode('utf-8'):\n",
    "        print(\"WARNING: 你正在使用的是 Quadro M4000 GPU，它将无法使用 xformers。\")\n",
    "        paperspace_m4000 = True\n",
    "        isPaperspace = True\n",
    "    else:\n",
    "        print(\"你正在使用的是合适的 GPU - \" + subprocess.run(['nvidia-smi', '--query-gpu=name', '--format=csv,noheader'], stdout=subprocess.PIPE).stdout.decode('utf-8') + \"。\")\n",
    "        print(\"平台: Paperspace\" if isPaperspace else \"使用平台: Colab\")\n",
    "except:\n",
    "    print(\"似乎没有 GPU 可用。请检查你的运行时类型。\")\n",
    "    exit()\n",
    "\n",
    "rootDir = isPaperspace and '/tmp' or '/content'\n",
    "stableDiffusionWebUIInstalled = os.path.exists(rootDir + '/stable-diffusion-webui')\n",
    "%store rootDir\n",
    "%store paperspace_m4000 \n",
    "%store isPaperspace\n",
    "%store stableDiffusionWebUIInstalled"
   ]
  }
 ],
 "metadata": {
  "language_info": {
   "name": "python"
  },
  "orig_nbformat": 4
 },
 "nbformat": 4,
 "nbformat_minor": 2
}
